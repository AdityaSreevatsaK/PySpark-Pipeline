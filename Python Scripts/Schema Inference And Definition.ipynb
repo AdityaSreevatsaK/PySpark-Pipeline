{
 "cells": [
  {
   "cell_type": "code",
   "execution_count": 1,
   "id": "042f4022-4d25-4ccc-a1ec-d37f72edfb73",
   "metadata": {},
   "outputs": [],
   "source": [
    "from pyspark.sql import SparkSession\n",
    "from pyspark.sql.types import StructType, StructField, IntegerType, StringType, FloatType"
   ]
  },
  {
   "cell_type": "code",
   "execution_count": 2,
   "id": "f1b9201a-be0b-45b7-970b-5e42cb43f38f",
   "metadata": {},
   "outputs": [],
   "source": [
    "spark = SparkSession.builder \\\n",
    "                    .appName(\"Schema Inference And Definition\") \\\n",
    "                    .master('local[*]') \\\n",
    "                    .getOrCreate()"
   ]
  },
  {
   "cell_type": "code",
   "execution_count": 3,
   "id": "f57b85b3-3d07-4ba6-a69f-3da09e98158d",
   "metadata": {},
   "outputs": [
    {
     "data": {
      "text/html": [
       "\n",
       "            <div>\n",
       "                <p><b>SparkSession - in-memory</b></p>\n",
       "                \n",
       "        <div>\n",
       "            <p><b>SparkContext</b></p>\n",
       "\n",
       "            <p><a href=\"http://ASK:4040\">Spark UI</a></p>\n",
       "\n",
       "            <dl>\n",
       "              <dt>Version</dt>\n",
       "                <dd><code>v3.5.5</code></dd>\n",
       "              <dt>Master</dt>\n",
       "                <dd><code>local[*]</code></dd>\n",
       "              <dt>AppName</dt>\n",
       "                <dd><code>SchemaInferenceAndDefinition</code></dd>\n",
       "            </dl>\n",
       "        </div>\n",
       "        \n",
       "            </div>\n",
       "        "
      ],
      "text/plain": [
       "<pyspark.sql.session.SparkSession at 0x29c450eb550>"
      ]
     },
     "execution_count": 3,
     "metadata": {},
     "output_type": "execute_result"
    }
   ],
   "source": [
    "spark"
   ]
  },
  {
   "cell_type": "markdown",
   "id": "7025ffb0-25cb-4c3c-acae-a3727816d3eb",
   "metadata": {},
   "source": [
    "### Auto Schema Inference"
   ]
  },
  {
   "cell_type": "code",
   "execution_count": 4,
   "id": "2be3b0d5-25e8-4e21-8711-ce5fdf9cf888",
   "metadata": {},
   "outputs": [],
   "source": [
    "heart_dataframe_inferred = spark.read \\\n",
    "                                .format('csv') \\\n",
    "                                .option('header', 'true') \\\n",
    "                                .option('inferSchema', 'true') \\\n",
    "                                .load('../Data/Heart Disease UCI.csv')"
   ]
  },
  {
   "cell_type": "code",
   "execution_count": 5,
   "id": "7b0d1873-f5ee-4ba9-b532-81e0b489b8da",
   "metadata": {},
   "outputs": [
    {
     "data": {
      "text/plain": [
       "DataFrame[age: int, sex: int, cp: int, trestbps: int, chol: int, fbs: int, restecg: int, thalach: int, exang: int, oldpeak: double, slope: int, ca: int, thal: int, condition: int]"
      ]
     },
     "execution_count": 5,
     "metadata": {},
     "output_type": "execute_result"
    }
   ],
   "source": [
    "heart_dataframe_inferred"
   ]
  },
  {
   "cell_type": "code",
   "execution_count": 6,
   "id": "6af47bbb-3650-4fb2-b0ba-4f7904f868c5",
   "metadata": {},
   "outputs": [
    {
     "data": {
      "text/plain": [
       "['age',\n",
       " 'sex',\n",
       " 'cp',\n",
       " 'trestbps',\n",
       " 'chol',\n",
       " 'fbs',\n",
       " 'restecg',\n",
       " 'thalach',\n",
       " 'exang',\n",
       " 'oldpeak',\n",
       " 'slope',\n",
       " 'ca',\n",
       " 'thal',\n",
       " 'condition']"
      ]
     },
     "execution_count": 6,
     "metadata": {},
     "output_type": "execute_result"
    }
   ],
   "source": [
    "heart_dataframe_inferred.columns"
   ]
  },
  {
   "cell_type": "code",
   "execution_count": 7,
   "id": "6f791c1a-aaf3-4cdb-969a-05322b508d30",
   "metadata": {},
   "outputs": [
    {
     "name": "stdout",
     "output_type": "stream",
     "text": [
      "root\n",
      " |-- age: integer (nullable = true)\n",
      " |-- sex: integer (nullable = true)\n",
      " |-- cp: integer (nullable = true)\n",
      " |-- trestbps: integer (nullable = true)\n",
      " |-- chol: integer (nullable = true)\n",
      " |-- fbs: integer (nullable = true)\n",
      " |-- restecg: integer (nullable = true)\n",
      " |-- thalach: integer (nullable = true)\n",
      " |-- exang: integer (nullable = true)\n",
      " |-- oldpeak: double (nullable = true)\n",
      " |-- slope: integer (nullable = true)\n",
      " |-- ca: integer (nullable = true)\n",
      " |-- thal: integer (nullable = true)\n",
      " |-- condition: integer (nullable = true)\n",
      "\n"
     ]
    }
   ],
   "source": [
    "heart_dataframe_inferred.printSchema()"
   ]
  },
  {
   "cell_type": "markdown",
   "id": "3e33f65b-1421-4895-9bc1-c99d81c51ce6",
   "metadata": {},
   "source": [
    "### Manual Schema Definition"
   ]
  },
  {
   "cell_type": "code",
   "execution_count": 8,
   "id": "80c19428-0aff-42de-9358-a187d189bf40",
   "metadata": {},
   "outputs": [],
   "source": [
    "manual_schema = StructType([\n",
    "    StructField(\"age\", IntegerType(), True),\n",
    "    StructField(\"sex\", StringType(), True),\n",
    "    StructField(\"cp\", StringType(), True),\n",
    "    StructField(\"trestbps\", IntegerType(), True),\n",
    "    StructField(\"chol\", IntegerType(), True),\n",
    "    StructField(\"fbs\", StringType(), True),\n",
    "    StructField(\"restecg\", StringType(), True),\n",
    "    StructField(\"thalach\", IntegerType(), True),\n",
    "    StructField(\"exang\", StringType(), True),\n",
    "    StructField(\"oldpeak\", FloatType(), True),\n",
    "    StructField(\"slope\", StringType(), True),\n",
    "    StructField(\"ca\", StringType(), True),\n",
    "    StructField(\"thal\", StringType(), True),\n",
    "    StructField(\"target\", StringType(), True)\n",
    "])"
   ]
  },
  {
   "cell_type": "code",
   "execution_count": 9,
   "id": "19908f15-8f74-4c11-9c11-1b848ab627b1",
   "metadata": {},
   "outputs": [],
   "source": [
    "heart_dataframe_manual = spark.read \\\n",
    "                                .format('csv') \\\n",
    "                                .option('header', 'true') \\\n",
    "                                .option('inferSchema', 'false') \\\n",
    "                                .schema(manual_schema) \\\n",
    "                                .load('../Data/Heart Disease UCI.csv')"
   ]
  },
  {
   "cell_type": "code",
   "execution_count": 10,
   "id": "c2c17d81-72a3-40dd-806a-9a0959ca5cb5",
   "metadata": {},
   "outputs": [
    {
     "data": {
      "text/plain": [
       "DataFrame[age: int, sex: string, cp: string, trestbps: int, chol: int, fbs: string, restecg: string, thalach: int, exang: string, oldpeak: float, slope: string, ca: string, thal: string, target: string]"
      ]
     },
     "execution_count": 10,
     "metadata": {},
     "output_type": "execute_result"
    }
   ],
   "source": [
    "heart_dataframe_manual"
   ]
  },
  {
   "cell_type": "code",
   "execution_count": 11,
   "id": "5b379712-e8b5-4d09-9c15-5206913478b4",
   "metadata": {},
   "outputs": [
    {
     "name": "stdout",
     "output_type": "stream",
     "text": [
      "root\n",
      " |-- age: integer (nullable = true)\n",
      " |-- sex: string (nullable = true)\n",
      " |-- cp: string (nullable = true)\n",
      " |-- trestbps: integer (nullable = true)\n",
      " |-- chol: integer (nullable = true)\n",
      " |-- fbs: string (nullable = true)\n",
      " |-- restecg: string (nullable = true)\n",
      " |-- thalach: integer (nullable = true)\n",
      " |-- exang: string (nullable = true)\n",
      " |-- oldpeak: float (nullable = true)\n",
      " |-- slope: string (nullable = true)\n",
      " |-- ca: string (nullable = true)\n",
      " |-- thal: string (nullable = true)\n",
      " |-- target: string (nullable = true)\n",
      "\n"
     ]
    }
   ],
   "source": [
    "heart_dataframe_manual.printSchema()"
   ]
  },
  {
   "cell_type": "code",
   "execution_count": null,
   "id": "a30200bd-a277-4b11-ae66-76267bfb8f4b",
   "metadata": {},
   "outputs": [],
   "source": []
  }
 ],
 "metadata": {
  "kernelspec": {
   "display_name": "Python 3 (ipykernel)",
   "language": "python",
   "name": "python3"
  },
  "language_info": {
   "codemirror_mode": {
    "name": "ipython",
    "version": 3
   },
   "file_extension": ".py",
   "mimetype": "text/x-python",
   "name": "python",
   "nbconvert_exporter": "python",
   "pygments_lexer": "ipython3",
   "version": "3.11.7"
  }
 },
 "nbformat": 4,
 "nbformat_minor": 5
}
