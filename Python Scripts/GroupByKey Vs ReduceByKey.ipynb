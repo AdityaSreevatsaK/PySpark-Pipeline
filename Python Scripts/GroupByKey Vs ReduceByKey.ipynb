{
 "cells": [
  {
   "cell_type": "code",
   "execution_count": 1,
   "id": "0912a840-e4ee-49bc-8f12-a1efa78168ac",
   "metadata": {},
   "outputs": [],
   "source": [
    "import os\n",
    "os.environ[\"PYSPARK_PYTHON\"] = r\"C:\\Users\\krish\\anaconda3\\python.exe\"\n",
    "os.environ[\"PYSPARK_DRIVER_PYTHON\"] = r\"C:\\Users\\krish\\anaconda3\\python.exe\""
   ]
  },
  {
   "cell_type": "code",
   "execution_count": 2,
   "id": "ed3bfca0-fd48-4a6f-9763-091134749958",
   "metadata": {},
   "outputs": [],
   "source": [
    "from pyspark.sql import SparkSession"
   ]
  },
  {
   "cell_type": "code",
   "execution_count": 3,
   "id": "b12857be-55a7-4f67-8b18-439e9d6a18b2",
   "metadata": {},
   "outputs": [],
   "source": [
    "spark = SparkSession.builder \\\n",
    "                    .appName(\"GBK Vs RBK\") \\\n",
    "                    .master(\"local[*]\") \\\n",
    "                    .getOrCreate()"
   ]
  },
  {
   "cell_type": "code",
   "execution_count": 4,
   "id": "30d1c366-d8cd-46c0-8c71-c6ef4adce317",
   "metadata": {},
   "outputs": [
    {
     "data": {
      "text/html": [
       "\n",
       "            <div>\n",
       "                <p><b>SparkSession - in-memory</b></p>\n",
       "                \n",
       "        <div>\n",
       "            <p><b>SparkContext</b></p>\n",
       "\n",
       "            <p><a href=\"http://ASK:4040\">Spark UI</a></p>\n",
       "\n",
       "            <dl>\n",
       "              <dt>Version</dt>\n",
       "                <dd><code>v3.5.5</code></dd>\n",
       "              <dt>Master</dt>\n",
       "                <dd><code>local[*]</code></dd>\n",
       "              <dt>AppName</dt>\n",
       "                <dd><code>GBK Vs RBK</code></dd>\n",
       "            </dl>\n",
       "        </div>\n",
       "        \n",
       "            </div>\n",
       "        "
      ],
      "text/plain": [
       "<pyspark.sql.session.SparkSession at 0x24afeafb850>"
      ]
     },
     "execution_count": 4,
     "metadata": {},
     "output_type": "execute_result"
    }
   ],
   "source": [
    "spark"
   ]
  },
  {
   "cell_type": "code",
   "execution_count": null,
   "id": "06abe8b9-e128-4f99-895c-53038bb1f43d",
   "metadata": {},
   "outputs": [],
   "source": [
    "customer_rdd = spark.sparkContext.textFile('../Data/Customer Data.csv')"
   ]
  },
  {
   "cell_type": "code",
   "execution_count": 6,
   "id": "3dfc982e-aa75-4f42-907d-beeb3d5ce8b9",
   "metadata": {},
   "outputs": [
    {
     "data": {
      "text/plain": [
       "169674"
      ]
     },
     "execution_count": 6,
     "metadata": {},
     "output_type": "execute_result"
    }
   ],
   "source": [
    "customer_rdd.count()"
   ]
  },
  {
   "cell_type": "code",
   "execution_count": 7,
   "id": "a7ca2a69-85a3-4048-9136-73a4a6109082",
   "metadata": {},
   "outputs": [
    {
     "data": {
      "text/plain": [
       "'customer_id,name,city,state,country,registration_date,is_active'"
      ]
     },
     "execution_count": 7,
     "metadata": {},
     "output_type": "execute_result"
    }
   ],
   "source": [
    "header = customer_rdd.first()\n",
    "header"
   ]
  },
  {
   "cell_type": "code",
   "execution_count": 8,
   "id": "b5d00676-d760-4160-a245-a20f7eef8992",
   "metadata": {},
   "outputs": [],
   "source": [
    "cleaned_rdd = customer_rdd.filter(lambda row: row != header).map(lambda row: row.split(','))"
   ]
  },
  {
   "cell_type": "code",
   "execution_count": 10,
   "id": "b5b1cffd-812d-4a25-a134-527e82dd1e32",
   "metadata": {},
   "outputs": [
    {
     "data": {
      "text/plain": [
       "[['0', 'Customer_0', 'Pune', 'West Bengal', 'India', '2023-10-10', 'True'],\n",
       " ['1', 'Customer_1', 'Bangalore', 'Gujarat', 'India', '2023-10-19', 'False'],\n",
       " ['2', 'Customer_2', 'Bangalore', 'Karnataka', 'India', '2023-02-10', 'True']]"
      ]
     },
     "execution_count": 10,
     "metadata": {},
     "output_type": "execute_result"
    }
   ],
   "source": [
    "cleaned_rdd.take(3)"
   ]
  },
  {
   "cell_type": "markdown",
   "id": "303864a4-12f5-41c1-98f1-92e502f34d25",
   "metadata": {},
   "source": [
    "### Reduce By Key"
   ]
  },
  {
   "cell_type": "code",
   "execution_count": 11,
   "id": "d16bd5d6-0640-4737-84cc-8cc9feeabe92",
   "metadata": {},
   "outputs": [],
   "source": [
    "unique_cities = cleaned_rdd.map(lambda row: (row[2], 1)).reduceByKey(lambda x, y: x + y)"
   ]
  },
  {
   "cell_type": "code",
   "execution_count": 12,
   "id": "8dc9b2e6-9a12-4d7e-ab25-2e2c12619f57",
   "metadata": {},
   "outputs": [
    {
     "data": {
      "text/plain": [
       "[('Pune', 21481),\n",
       " ('Hyderabad', 21174),\n",
       " ('Delhi', 21123),\n",
       " ('Mumbai', 21041),\n",
       " ('Bangalore', 21272),\n",
       " ('Ahmedabad', 21272),\n",
       " ('Chennai', 21046),\n",
       " ('Kolkata', 21264)]"
      ]
     },
     "execution_count": 12,
     "metadata": {},
     "output_type": "execute_result"
    }
   ],
   "source": [
    "unique_cities.collect()"
   ]
  },
  {
   "cell_type": "markdown",
   "id": "3fa48946-a140-4c33-890e-eb4b8215ab81",
   "metadata": {},
   "source": [
    "### Group By Key"
   ]
  },
  {
   "cell_type": "code",
   "execution_count": 13,
   "id": "67b75717-9c08-4363-9bf3-1ce61d4be9e2",
   "metadata": {},
   "outputs": [
    {
     "data": {
      "text/plain": [
       "[('Pune', <pyspark.resultiterable.ResultIterable at 0x24a8c310110>),\n",
       " ('Hyderabad', <pyspark.resultiterable.ResultIterable at 0x24afeafb090>),\n",
       " ('Delhi', <pyspark.resultiterable.ResultIterable at 0x24a8c311050>)]"
      ]
     },
     "execution_count": 13,
     "metadata": {},
     "output_type": "execute_result"
    }
   ],
   "source": [
    "grouped_by_key_rdd = cleaned_rdd.map(lambda row: (row[2], 1)).groupByKey()\n",
    "grouped_by_key_rdd.take(3)"
   ]
  },
  {
   "cell_type": "code",
   "execution_count": 14,
   "id": "7f5dbe15-012b-4358-87e7-0a75995ea416",
   "metadata": {},
   "outputs": [
    {
     "data": {
      "text/plain": [
       "[('Pune', 21481),\n",
       " ('Hyderabad', 21174),\n",
       " ('Delhi', 21123),\n",
       " ('Mumbai', 21041),\n",
       " ('Bangalore', 21272),\n",
       " ('Ahmedabad', 21272),\n",
       " ('Chennai', 21046),\n",
       " ('Kolkata', 21264)]"
      ]
     },
     "execution_count": 14,
     "metadata": {},
     "output_type": "execute_result"
    }
   ],
   "source": [
    "grouped_by_key_result = grouped_by_key_rdd.map(lambda row: (row[0], len(row[1])))\n",
    "grouped_by_key_result.collect()"
   ]
  },
  {
   "attachments": {
    "d5567876-9880-4473-867d-5e3ca713606f.png": {
     "image/png": "[encoded data removed]"
    }
   },
   "cell_type": "markdown",
   "id": "ac70514a-d466-42b9-83b3-fbd297ddfcf8",
   "metadata": {},
   "source": [
    "### ReduceByKey:\n",
    "- Combines values locally on each partition before shuffling.\n",
    "- Less data movement over the network.\n",
    "- More efficient and scalable.\n",
    "- Used for aggregations like sum, count, max, etc.\n",
    "\n",
    "### GroupByKey:\n",
    "- Moves all values for a key across the cluster before grouping.\n",
    "- Can cause network congestion and memory issues with large datasets.\n",
    "- Use only when actual grouping is needed (e.g., collecting lists).\n",
    "\n",
    "Both reduceByKey and groupByKey can be used to count how many times each city appears. However, reduceByKey is more efficient, because it reduces the data before shuffling. In contrast, groupByKey first moves all values with the same key to one place and then processes them, which is slower and uses more memory. That's why reduceByKey is preferred for aggregations.\n",
    "\n",
    "While groupByKey is less efficient than reduceByKey for aggregations, it does have valid use cases—especially when you actually need access to all the values associated with each key, not just a summary like sum or count.\n",
    "\n",
    "#### Use groupByKey when:\n",
    "- You need to preserve all values per key (not reduce them).\n",
    "- You need to perform a non-commutative, non-associative operation (i.e., the order of values matters).\n",
    "- You're preparing data for complex downstream processing or formatting.\n",
    "\n",
    "#### Examples Where groupByKey Makes Sense\n",
    "1. Collect All Orders Per Customer\n",
    "- Suppose you have an RDD of (customer_id, order_amount) and you want to collect all order amounts per customer.\n",
    "```\n",
    "  rdd = sc.parallelize([\n",
    "        (\"cust1\", 100), (\"cust1\", 200),\n",
    "        (\"cust2\", 300), (\"cust2\", 150)\n",
    "    ])\n",
    "    \n",
    "    grouped = rdd.groupByKey()\n",
    "    result = grouped.mapValues(list).collect()\n",
    "  # Output: [(\"cust1\", [100, 200]), (\"cust2\", [300, 150])]\n",
    "```\n",
    "\n",
    "2. Joining or Grouping for Further Processing\n",
    "- In a machine learning pipeline, you might group user events by user ID to extract features, click sequences, or time-series input.\n",
    "```\n",
    "events_rdd = sc.parallelize([\n",
    "    (\"user1\", \"click\"), (\"user1\", \"scroll\"),\n",
    "    (\"user2\", \"click\"), (\"user2\", \"purchase\")\n",
    "])\n",
    "\n",
    "user_events = events_rdd.groupByKey().mapValues(list)\n",
    "# Output: [(\"user1\", [\"click\", \"scroll\"]), (\"user2\", [\"click\", \"purchase\"])]\n",
    "\n",
    "```\n",
    "\n",
    "#### Caution with groupByKey\n",
    "Even when valid, use it only when necessary, and watch for performance hits with large keys or large value lists. If you're not sure, always ask: \"Do I need all the values, or just a summary?\"\n",
    "\n",
    "![image.png](attachment:d5567876-9880-4473-867d-5e3ca713606f.png)"
   ]
  },
  {
   "cell_type": "code",
   "execution_count": null,
   "id": "c3c16dd9-faa2-4b11-931e-e4cd3b02940a",
   "metadata": {},
   "outputs": [],
   "source": []
  }
 ],
 "metadata": {
  "kernelspec": {
   "display_name": "Python 3 (ipykernel)",
   "language": "python",
   "name": "python3"
  },
  "language_info": {
   "codemirror_mode": {
    "name": "ipython",
    "version": 3
   },
   "file_extension": ".py",
   "mimetype": "text/x-python",
   "name": "python",
   "nbconvert_exporter": "python",
   "pygments_lexer": "ipython3",
   "version": "3.11.7"
  }
 },
 "nbformat": 4,
 "nbformat_minor": 5
}
