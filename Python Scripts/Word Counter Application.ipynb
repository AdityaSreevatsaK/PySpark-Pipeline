{
 "cells": [
  {
   "cell_type": "code",
   "execution_count": 1,
   "id": "444931e2-f3b1-45ab-bd51-95152048c0c8",
   "metadata": {},
   "outputs": [],
   "source": [
    "import os\n",
    "os.environ[\"PYSPARK_PYTHON\"] = r\"C:\\Users\\krish\\anaconda3\\python.exe\"\n",
    "os.environ[\"PYSPARK_DRIVER_PYTHON\"] = r\"C:\\Users\\krish\\anaconda3\\python.exe\""
   ]
  },
  {
   "cell_type": "code",
   "execution_count": 2,
   "id": "36de6b52-81cd-4ec1-b4f9-08e3a99f9e65",
   "metadata": {},
   "outputs": [],
   "source": [
    "from pyspark.sql import SparkSession"
   ]
  },
  {
   "cell_type": "code",
   "execution_count": 3,
   "id": "2a6a2388-6b40-4e04-b8cf-874928ced366",
   "metadata": {},
   "outputs": [],
   "source": [
    "spark = SparkSession.builder \\\n",
    "    .appName(\"WordCounterApplication\") \\\n",
    "    .getOrCreate()"
   ]
  },
  {
   "cell_type": "code",
   "execution_count": 4,
   "id": "f8eb4085-d353-4a59-8cd0-4c3b0a75454f",
   "metadata": {},
   "outputs": [],
   "source": [
    "hdfs_path = '../Data/Word Counter Application Data.txt'"
   ]
  },
  {
   "cell_type": "code",
   "execution_count": 5,
   "id": "aa529703-8c9f-4660-958c-c051f47faef8",
   "metadata": {},
   "outputs": [],
   "source": [
    "rdd = spark.sparkContext.textFile(hdfs_path)\n",
    "words = rdd.flatMap(lambda line: line.split(' '))"
   ]
  },
  {
   "cell_type": "code",
   "execution_count": 6,
   "id": "b1400bf3-9a62-4de5-a72e-f952b97be8dd",
   "metadata": {},
   "outputs": [],
   "source": [
    "word_map = words.map(lambda word: (word, 1))"
   ]
  },
  {
   "cell_type": "code",
   "execution_count": 7,
   "id": "a852c314-9dda-4775-b411-5f896968d464",
   "metadata": {},
   "outputs": [
    {
     "name": "stdout",
     "output_type": "stream",
     "text": [
      "[('Python', 4), ('Java', 1), ('SQL', 3), ('MySQL', 1), ('Tensorflow', 1), ('Keras', 1), ('PyTorch', 1), ('PostgreSQL', 1)]\n"
     ]
    }
   ],
   "source": [
    "word_count = word_map.reduceByKey(lambda a, b: a + b)\n",
    "print(word_count.collect())"
   ]
  },
  {
   "cell_type": "code",
   "execution_count": 8,
   "id": "ae1a8613-fa1c-4c55-849d-38b1e7977082",
   "metadata": {},
   "outputs": [
    {
     "name": "stdout",
     "output_type": "stream",
     "text": [
      "[('Python', 4), ('Java', 1), ('SQL', 3), ('MySQL', 1), ('Tensorflow', 1), ('Keras', 1), ('PyTorch', 1), ('PostgreSQL', 1)]\n"
     ]
    }
   ],
   "source": [
    "inline_word_count = rdd.flatMap(lambda line: line.split(' ')) \\\n",
    "                        .map(lambda word: (word, 1)) \\\n",
    "                        .reduceByKey(lambda a, b: a + b) \\\n",
    "                        .collect()\n",
    "print(inline_word_count)"
   ]
  },
  {
   "cell_type": "code",
   "execution_count": 9,
   "id": "1e2d0823-8a9a-4c5c-b6bc-52ae693e4278",
   "metadata": {},
   "outputs": [],
   "source": [
    "spark.stop()"
   ]
  },
  {
   "cell_type": "code",
   "execution_count": null,
   "id": "50210938-9293-477f-acbe-58a42e8d76e7",
   "metadata": {},
   "outputs": [],
   "source": []
  }
 ],
 "metadata": {
  "kernelspec": {
   "display_name": "Python 3 (ipykernel)",
   "language": "python",
   "name": "python3"
  },
  "language_info": {
   "codemirror_mode": {
    "name": "ipython",
    "version": 3
   },
   "file_extension": ".py",
   "mimetype": "text/x-python",
   "name": "python",
   "nbconvert_exporter": "python",
   "pygments_lexer": "ipython3",
   "version": "3.11.7"
  }
 },
 "nbformat": 4,
 "nbformat_minor": 5
}
