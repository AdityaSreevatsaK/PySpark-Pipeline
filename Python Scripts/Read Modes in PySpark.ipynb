{
 "cells": [
  {
   "cell_type": "code",
   "execution_count": 1,
   "id": "8a57fc8b-2227-4f19-bf5d-d99657c0643c",
   "metadata": {},
   "outputs": [],
   "source": [
    "from pyspark.sql import SparkSession\n",
    "from pyspark.sql.types import *"
   ]
  },
  {
   "cell_type": "code",
   "execution_count": 2,
   "id": "8f35e2bf-ef55-4a91-9379-c104bf48d240",
   "metadata": {},
   "outputs": [],
   "source": [
    "spark = SparkSession.builder \\\n",
    "                    .appName(\"Read Modes in PySpark\") \\\n",
    "                    .master(\"local[*]\") \\\n",
    "                    .getOrCreate()"
   ]
  },
  {
   "cell_type": "code",
   "execution_count": 3,
   "id": "77139d3c-e63b-4210-a3de-d1f6253997a3",
   "metadata": {},
   "outputs": [],
   "source": [
    "schema = StructType(\n",
    "    [\n",
    "        StructField('customer_id',IntegerType(),False),\n",
    "        StructField('name',StringType(),False),\n",
    "        StructField('city',StringType(),False),\n",
    "        StructField('state',StringType(),False),\n",
    "        StructField('country',StringType(),False),\n",
    "        StructField('registration_date',DateType(),False),\n",
    "        StructField('is_active',BooleanType(),False)\n",
    "    ]\n",
    ")"
   ]
  },
  {
   "attachments": {
    "abc16043-bf2a-4438-b02d-51b50c8eb142.png": {
     "image/png": "[encoded data removed]"
    }
   },
   "cell_type": "markdown",
   "id": "a3e2511e-49c0-41be-84b2-b84811126b3a",
   "metadata": {},
   "source": [
    "![image.png](attachment:abc16043-bf2a-4438-b02d-51b50c8eb142.png)"
   ]
  },
  {
   "cell_type": "markdown",
   "id": "bbd9c600-e4d3-4267-91b0-9e10844e0a06",
   "metadata": {},
   "source": [
    "### FailFast\n",
    "- Spark throws an error and stops reading at the first bad record.\n",
    "- Best for strict ETL pipelines where data quality must be guaranteed."
   ]
  },
  {
   "cell_type": "code",
   "execution_count": 4,
   "id": "6a51be7a-7975-44da-b29f-64ad61c7cbf4",
   "metadata": {},
   "outputs": [],
   "source": [
    "dataframe_fail_fast = spark.read \\\n",
    "                            .format('csv') \\\n",
    "                            .option('header', 'true') \\\n",
    "                            .option('inferSchema', 'false') \\\n",
    "                            .schema(schema) \\\n",
    "                            .option('mode', 'FAILFAST') \\\n",
    "                            .load('Customer Data.csv')"
   ]
  },
  {
   "cell_type": "code",
   "execution_count": 5,
   "id": "26c122e4-2d85-42ca-b40b-fa748c98ff3c",
   "metadata": {},
   "outputs": [
    {
     "data": {
      "text/plain": [
       "DataFrame[customer_id: int, name: string, city: string, state: string, country: string, registration_date: date, is_active: boolean]"
      ]
     },
     "execution_count": 5,
     "metadata": {},
     "output_type": "execute_result"
    }
   ],
   "source": [
    "dataframe_fail_fast"
   ]
  },
  {
   "cell_type": "code",
   "execution_count": 6,
   "id": "e3d56d54-733c-4e70-9615-810bb2a33deb",
   "metadata": {},
   "outputs": [
    {
     "name": "stdout",
     "output_type": "stream",
     "text": [
      "+-----------+----------+---------+-----------+-------+-----------------+---------+\n",
      "|customer_id|      name|     city|      state|country|registration_date|is_active|\n",
      "+-----------+----------+---------+-----------+-------+-----------------+---------+\n",
      "|          0|Customer_0|     Pune|West Bengal|  India|       2023-10-10|     true|\n",
      "|          1|Customer_1|Bangalore|    Gujarat|  India|       2023-10-19|    false|\n",
      "|          2|Customer_2|Bangalore|  Karnataka|  India|       2023-02-10|     true|\n",
      "|          3|Customer_3|Bangalore|  Telangana|  India|       2023-03-24|     true|\n",
      "|          4|Customer_4|Hyderabad|  Telangana|  India|       2023-06-04|    false|\n",
      "+-----------+----------+---------+-----------+-------+-----------------+---------+\n",
      "only showing top 5 rows\n",
      "\n"
     ]
    }
   ],
   "source": [
    "dataframe_fail_fast.show(5)"
   ]
  },
  {
   "cell_type": "markdown",
   "id": "513ea449-395e-49fa-8c7b-82e5986e6bdb",
   "metadata": {},
   "source": [
    "### DROPMALFORMED\n",
    "- Completely drops rows that don't match the schema.\n",
    "- No warning or error—so be cautious.\n",
    "- Good when you want clean data only and don't care about loss."
   ]
  },
  {
   "cell_type": "code",
   "execution_count": 7,
   "id": "8bd30e95-17f3-4fef-a2c6-55ff119d8e41",
   "metadata": {},
   "outputs": [],
   "source": [
    "dataframe_malformed = spark.read \\\n",
    "                            .format('csv') \\\n",
    "                            .option('header', 'true') \\\n",
    "                            .option('inferSchema', 'false') \\\n",
    "                            .schema(schema) \\\n",
    "                            .option('mode', 'DROPMALFORMED') \\\n",
    "                            .load('../b. Data/Customer Data.csv')"
   ]
  },
  {
   "cell_type": "code",
   "execution_count": 8,
   "id": "e10041ec-afba-4fd6-9586-85ca7c761f57",
   "metadata": {},
   "outputs": [
    {
     "data": {
      "text/plain": [
       "DataFrame[customer_id: int, name: string, city: string, state: string, country: string, registration_date: date, is_active: boolean]"
      ]
     },
     "execution_count": 8,
     "metadata": {},
     "output_type": "execute_result"
    }
   ],
   "source": [
    "dataframe_malformed"
   ]
  },
  {
   "cell_type": "code",
   "execution_count": 9,
   "id": "b7f9447b-d78b-4efd-8c33-d5644a94631d",
   "metadata": {},
   "outputs": [
    {
     "name": "stdout",
     "output_type": "stream",
     "text": [
      "+-----------+----------+---------+-----------+-------+-----------------+---------+\n",
      "|customer_id|      name|     city|      state|country|registration_date|is_active|\n",
      "+-----------+----------+---------+-----------+-------+-----------------+---------+\n",
      "|          0|Customer_0|     Pune|West Bengal|  India|       2023-10-10|     true|\n",
      "|          1|Customer_1|Bangalore|    Gujarat|  India|       2023-10-19|    false|\n",
      "|          2|Customer_2|Bangalore|  Karnataka|  India|       2023-02-10|     true|\n",
      "|          3|Customer_3|Bangalore|  Telangana|  India|       2023-03-24|     true|\n",
      "|          4|Customer_4|Hyderabad|  Telangana|  India|       2023-06-04|    false|\n",
      "+-----------+----------+---------+-----------+-------+-----------------+---------+\n",
      "only showing top 5 rows\n",
      "\n"
     ]
    }
   ],
   "source": [
    "dataframe_malformed.show(5)"
   ]
  },
  {
   "cell_type": "markdown",
   "id": "d93ae1f0-a5f4-47ce-96b0-5f5966944e60",
   "metadata": {},
   "source": [
    "### PERMISSIVE (Default)\n",
    "- Loads all rows, even if some fields are bad or missing.\n",
    "- Malformed rows get added to a special column called _corrupt_record.\n",
    "- Works well when you're exploring messy data."
   ]
  },
  {
   "cell_type": "code",
   "execution_count": 10,
   "id": "83226e3d-d8fe-41b8-85ed-dc58fcf96ea8",
   "metadata": {},
   "outputs": [],
   "source": [
    "dataframe_permissive = spark.read \\\n",
    "                            .format('csv') \\\n",
    "                            .option('header', 'true') \\\n",
    "                            .option('inferSchema', 'false') \\\n",
    "                            .schema(schema) \\\n",
    "                            .option('mode', 'PERMISSIVE') \\\n",
    "                            .load('Customer Data.csv')"
   ]
  },
  {
   "cell_type": "code",
   "execution_count": 11,
   "id": "0e788273-12cf-43e2-b998-c73dd46a4d72",
   "metadata": {},
   "outputs": [
    {
     "data": {
      "text/plain": [
       "DataFrame[customer_id: int, name: string, city: string, state: string, country: string, registration_date: date, is_active: boolean]"
      ]
     },
     "execution_count": 11,
     "metadata": {},
     "output_type": "execute_result"
    }
   ],
   "source": [
    "dataframe_permissive"
   ]
  },
  {
   "cell_type": "code",
   "execution_count": 12,
   "id": "2efbebf6-3ada-46df-8c31-61fbbaf02a9f",
   "metadata": {},
   "outputs": [
    {
     "name": "stdout",
     "output_type": "stream",
     "text": [
      "+-----------+----------+---------+-----------+-------+-----------------+---------+\n",
      "|customer_id|      name|     city|      state|country|registration_date|is_active|\n",
      "+-----------+----------+---------+-----------+-------+-----------------+---------+\n",
      "|          0|Customer_0|     Pune|West Bengal|  India|       2023-10-10|     true|\n",
      "|          1|Customer_1|Bangalore|    Gujarat|  India|       2023-10-19|    false|\n",
      "|          2|Customer_2|Bangalore|  Karnataka|  India|       2023-02-10|     true|\n",
      "|          3|Customer_3|Bangalore|  Telangana|  India|       2023-03-24|     true|\n",
      "|          4|Customer_4|Hyderabad|  Telangana|  India|       2023-06-04|    false|\n",
      "+-----------+----------+---------+-----------+-------+-----------------+---------+\n",
      "only showing top 5 rows\n",
      "\n"
     ]
    }
   ],
   "source": [
    "dataframe_permissive.show(5)"
   ]
  },
  {
   "cell_type": "code",
   "execution_count": null,
   "id": "a0fa4879-bd9d-429f-8ffb-2b50eb845b48",
   "metadata": {},
   "outputs": [],
   "source": []
  }
 ],
 "metadata": {
  "kernelspec": {
   "display_name": "Python 3 (ipykernel)",
   "language": "python",
   "name": "python3"
  },
  "language_info": {
   "codemirror_mode": {
    "name": "ipython",
    "version": 3
   },
   "file_extension": ".py",
   "mimetype": "text/x-python",
   "name": "python",
   "nbconvert_exporter": "python",
   "pygments_lexer": "ipython3",
   "version": "3.11.7"
  }
 },
 "nbformat": 4,
 "nbformat_minor": 5
}
