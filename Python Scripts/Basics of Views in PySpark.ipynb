{
 "cells": [
  {
   "cell_type": "code",
   "execution_count": 1,
   "id": "4b22d439-f5d3-4021-827e-e43ab23eafd3",
   "metadata": {},
   "outputs": [],
   "source": [
    "import os\n",
    "os.environ[\"PYSPARK_PYTHON\"] = r\"C:\\Users\\krish\\anaconda3\\python.exe\"\n",
    "os.environ[\"PYSPARK_DRIVER_PYTHON\"] = r\"C:\\Users\\krish\\anaconda3\\python.exe\""
   ]
  },
  {
   "cell_type": "code",
   "execution_count": 2,
   "id": "dc35b25c-2bb8-4edb-ae6a-5b3f0af8541f",
   "metadata": {},
   "outputs": [],
   "source": [
    "from pyspark.sql import SparkSession"
   ]
  },
  {
   "cell_type": "code",
   "execution_count": 3,
   "id": "004004da-e855-4260-bd44-f77cf1fef525",
   "metadata": {},
   "outputs": [],
   "source": [
    "spark_session = SparkSession.builder \\\n",
    "    .appName(\"Views in PySpark\") \\\n",
    "    .getOrCreate()"
   ]
  },
  {
   "cell_type": "code",
   "execution_count": 4,
   "id": "7588e140-099b-4689-8817-7dc29cefd603",
   "metadata": {},
   "outputs": [],
   "source": [
    "dataframe = spark_session.read.format('csv') \\\n",
    "                                .option('header', 'true') \\\n",
    "                                .option('inferSchema', 'true') \\\n",
    "                                .load('../Data/Customer Data.csv')"
   ]
  },
  {
   "cell_type": "code",
   "execution_count": 5,
   "id": "2bfcafa0-ae49-4f3f-949f-7a693d211c8d",
   "metadata": {},
   "outputs": [
    {
     "name": "stdout",
     "output_type": "stream",
     "text": [
      "[Row(customer_id=0, name='Customer_0', city='Pune', state='West Bengal', country='India', registration_date=datetime.date(2023, 10, 10), is_active=True), Row(customer_id=1, name='Customer_1', city='Bangalore', state='Gujarat', country='India', registration_date=datetime.date(2023, 10, 19), is_active=False)]\n"
     ]
    }
   ],
   "source": [
    "# Normal print format\n",
    "print(dataframe.head(2))"
   ]
  },
  {
   "cell_type": "code",
   "execution_count": 6,
   "id": "785eaa0c-1e6e-42f6-87fe-d6763dff5058",
   "metadata": {},
   "outputs": [
    {
     "name": "stdout",
     "output_type": "stream",
     "text": [
      "+-----------+-----------+---------+-----------+-------+-----------------+---------+\n",
      "|customer_id|       name|     city|      state|country|registration_date|is_active|\n",
      "+-----------+-----------+---------+-----------+-------+-----------------+---------+\n",
      "|          0| Customer_0|     Pune|West Bengal|  India|       2023-10-10|     true|\n",
      "|          1| Customer_1|Bangalore|    Gujarat|  India|       2023-10-19|    false|\n",
      "|          2| Customer_2|Bangalore|  Karnataka|  India|       2023-02-10|     true|\n",
      "|          3| Customer_3|Bangalore|  Telangana|  India|       2023-03-24|     true|\n",
      "|          4| Customer_4|Hyderabad|  Telangana|  India|       2023-06-04|    false|\n",
      "|          5| Customer_5|Hyderabad|West Bengal|  India|       2023-07-26|     true|\n",
      "|          6| Customer_6|Hyderabad|  Karnataka|  India|       2023-08-07|    false|\n",
      "|          7| Customer_7|Bangalore|  Telangana|  India|       2023-08-25|     true|\n",
      "|          8| Customer_8|Bangalore|Maharashtra|  India|       2023-07-13|    false|\n",
      "|          9| Customer_9|Ahmedabad|      Delhi|  India|       2023-07-30|    false|\n",
      "|         10|Customer_10|  Chennai|    Gujarat|  India|       2023-01-14|    false|\n",
      "|         11|Customer_11|     Pune|West Bengal|  India|       2023-04-10|     true|\n",
      "|         12|Customer_12|    Delhi| Tamil Nadu|  India|       2023-06-20|     true|\n",
      "|         13|Customer_13|Ahmedabad|      Delhi|  India|       2023-11-09|     true|\n",
      "|         14|Customer_14|Ahmedabad|West Bengal|  India|       2023-02-18|     true|\n",
      "|         15|Customer_15|   Mumbai|  Telangana|  India|       2023-04-25|    false|\n",
      "|         16|Customer_16|    Delhi| Tamil Nadu|  India|       2023-04-25|    false|\n",
      "|         17|Customer_17|  Chennai|    Gujarat|  India|       2023-05-05|    false|\n",
      "|         18|Customer_18|Ahmedabad|    Gujarat|  India|       2023-08-06|     true|\n",
      "|         19|Customer_19|    Delhi|  Telangana|  India|       2023-04-27|     true|\n",
      "+-----------+-----------+---------+-----------+-------+-----------------+---------+\n",
      "only showing top 20 rows\n",
      "\n",
      "None\n"
     ]
    }
   ],
   "source": [
    "# Pretty format\n",
    "print(dataframe.show())"
   ]
  },
  {
   "cell_type": "code",
   "execution_count": 7,
   "id": "e65c1f6f-7ff8-4963-a6f6-e64079e7cacd",
   "metadata": {},
   "outputs": [
    {
     "name": "stdout",
     "output_type": "stream",
     "text": [
      "root\n",
      " |-- customer_id: integer (nullable = true)\n",
      " |-- name: string (nullable = true)\n",
      " |-- city: string (nullable = true)\n",
      " |-- state: string (nullable = true)\n",
      " |-- country: string (nullable = true)\n",
      " |-- registration_date: date (nullable = true)\n",
      " |-- is_active: boolean (nullable = true)\n",
      "\n",
      "None\n"
     ]
    }
   ],
   "source": [
    "# Print Schema\n",
    "print(dataframe.printSchema())"
   ]
  },
  {
   "cell_type": "code",
   "execution_count": 8,
   "id": "a0275633-acfc-463a-b2de-e8868059b105",
   "metadata": {},
   "outputs": [],
   "source": [
    "# View sort of structure\n",
    "result_view = dataframe.createOrReplaceTempView('CustomersView')"
   ]
  },
  {
   "cell_type": "code",
   "execution_count": 9,
   "id": "9375c68e-39b7-4079-bdc2-a88ce202768c",
   "metadata": {},
   "outputs": [],
   "source": [
    "result_view_1 = spark_session.sql(\"select * from CustomersView\")"
   ]
  },
  {
   "cell_type": "code",
   "execution_count": 10,
   "id": "5007196b-bafc-4f1d-89a9-86c7934525a0",
   "metadata": {},
   "outputs": [
    {
     "name": "stdout",
     "output_type": "stream",
     "text": [
      "+-----------+----------+---------+-----------+-------+-----------------+---------+\n",
      "|customer_id|      name|     city|      state|country|registration_date|is_active|\n",
      "+-----------+----------+---------+-----------+-------+-----------------+---------+\n",
      "|          0|Customer_0|     Pune|West Bengal|  India|       2023-10-10|     true|\n",
      "|          1|Customer_1|Bangalore|    Gujarat|  India|       2023-10-19|    false|\n",
      "|          2|Customer_2|Bangalore|  Karnataka|  India|       2023-02-10|     true|\n",
      "|          3|Customer_3|Bangalore|  Telangana|  India|       2023-03-24|     true|\n",
      "|          4|Customer_4|Hyderabad|  Telangana|  India|       2023-06-04|    false|\n",
      "|          5|Customer_5|Hyderabad|West Bengal|  India|       2023-07-26|     true|\n",
      "|          6|Customer_6|Hyderabad|  Karnataka|  India|       2023-08-07|    false|\n",
      "|          7|Customer_7|Bangalore|  Telangana|  India|       2023-08-25|     true|\n",
      "|          8|Customer_8|Bangalore|Maharashtra|  India|       2023-07-13|    false|\n",
      "|          9|Customer_9|Ahmedabad|      Delhi|  India|       2023-07-30|    false|\n",
      "+-----------+----------+---------+-----------+-------+-----------------+---------+\n",
      "only showing top 10 rows\n",
      "\n"
     ]
    }
   ],
   "source": [
    "result_view_1.show(10)"
   ]
  },
  {
   "cell_type": "code",
   "execution_count": null,
   "id": "92564420-10c1-4832-8e97-c18d94216c5b",
   "metadata": {},
   "outputs": [],
   "source": []
  }
 ],
 "metadata": {
  "kernelspec": {
   "display_name": "Python 3 (ipykernel)",
   "language": "python",
   "name": "python3"
  },
  "language_info": {
   "codemirror_mode": {
    "name": "ipython",
    "version": 3
   },
   "file_extension": ".py",
   "mimetype": "text/x-python",
   "name": "python",
   "nbconvert_exporter": "python",
   "pygments_lexer": "ipython3",
   "version": "3.11.7"
  }
 },
 "nbformat": 4,
 "nbformat_minor": 5
}
