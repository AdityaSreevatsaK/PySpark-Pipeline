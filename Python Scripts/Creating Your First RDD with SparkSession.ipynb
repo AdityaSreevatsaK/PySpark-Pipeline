{
 "cells": [
  {
   "cell_type": "code",
   "execution_count": 1,
   "id": "8d3b1527-7037-4418-991e-61455a20fee4",
   "metadata": {},
   "outputs": [],
   "source": [
    "import os\n",
    "os.environ[\"PYSPARK_PYTHON\"] = r\"C:\\Users\\krish\\anaconda3\\python.exe\"\n",
    "os.environ[\"PYSPARK_DRIVER_PYTHON\"] = r\"C:\\Users\\krish\\anaconda3\\python.exe\""
   ]
  },
  {
   "cell_type": "code",
   "execution_count": 2,
   "id": "ae68656b-a01c-435d-a3fa-f8fc18aeedea",
   "metadata": {},
   "outputs": [],
   "source": [
    "from pyspark.sql import SparkSession"
   ]
  },
  {
   "cell_type": "markdown",
   "id": "82145e85-c95a-4f33-98ff-08a4492ca30e",
   "metadata": {},
   "source": [
    "Here's a breakdown of the code:\n",
    "\n",
    "master(\"local\"): Indicates that the Spark application should execute locally on your machine using a single thread. \n",
    "This setup is suitable for basic development and testing without requiring a cluster. \n",
    "\n",
    "You can also configure it with:\n",
    "- \"local[3]\": Allocates 3 threads for the application, which may run across up to 3 cores (if available).\n",
    "- \"local[*]\": Uses all available cores on your local machine, with one thread per core.\n",
    "- \"spark://HOST:PORT\": Connects to a standalone Spark cluster at the specified host and port.\n",
    "- \"yarn\": Deploys the application on a Hadoop YARN cluster.\n",
    "- appName(\"GettingStarted\"): Sets a user-friendly name for your application, aiding in the identification and \n",
    "    monitoring of your Spark job.\n",
    "- getOrCreate(): This method finalizes the configuration and either retrieves an existing SparkSession with the same \n",
    "    settings or creates a new one if none exists.\n",
    "\n",
    "With your SparkSession ready, you’re now prepared to start processing data effectively with Spark."
   ]
  },
  {
   "cell_type": "code",
   "execution_count": 3,
   "id": "2cde2b61-a55f-4115-9f39-a99490857ec2",
   "metadata": {},
   "outputs": [],
   "source": [
    "spark = SparkSession.builder \\\n",
    "    .master(\"local\") \\\n",
    "    .appName(\"GettingStarted\") \\\n",
    "    .getOrCreate()"
   ]
  },
  {
   "cell_type": "code",
   "execution_count": 4,
   "id": "5d8e32f7-bda5-4e90-aa21-0980e3307100",
   "metadata": {},
   "outputs": [],
   "source": [
    "# Define a simple list of numbers as input data\n",
    "nums = [1, 2, 3, 4, 5]"
   ]
  },
  {
   "cell_type": "code",
   "execution_count": 5,
   "id": "281aebb9-3078-434c-b00e-5c439ab1e6cf",
   "metadata": {},
   "outputs": [],
   "source": [
    "# Convert the list into an RDD (Resilient Distributed Dataset)\n",
    "nums_rdd = spark.sparkContext.parallelize(nums)"
   ]
  },
  {
   "cell_type": "code",
   "execution_count": 6,
   "id": "7c1c54df-3e8a-4c9a-a367-b30c1d0900a1",
   "metadata": {},
   "outputs": [
    {
     "name": "stdout",
     "output_type": "stream",
     "text": [
      "All elements in the RDD: [1, 2, 3, 4, 5]\n"
     ]
    }
   ],
   "source": [
    "# Retrieve and print all elements from the RDD collection\n",
    "print(\"All elements in the RDD:\", nums_rdd.collect())"
   ]
  },
  {
   "cell_type": "code",
   "execution_count": 7,
   "id": "ad47595d-37be-4569-8173-518f6bf6023b",
   "metadata": {},
   "outputs": [],
   "source": [
    "# Stop SparkSession to release resources\n",
    "spark.stop()"
   ]
  }
 ],
 "metadata": {
  "kernelspec": {
   "display_name": "Python 3 (ipykernel)",
   "language": "python",
   "name": "python3"
  },
  "language_info": {
   "codemirror_mode": {
    "name": "ipython",
    "version": 3
   },
   "file_extension": ".py",
   "mimetype": "text/x-python",
   "name": "python",
   "nbconvert_exporter": "python",
   "pygments_lexer": "ipython3",
   "version": "3.11.7"
  }
 },
 "nbformat": 4,
 "nbformat_minor": 5
}
