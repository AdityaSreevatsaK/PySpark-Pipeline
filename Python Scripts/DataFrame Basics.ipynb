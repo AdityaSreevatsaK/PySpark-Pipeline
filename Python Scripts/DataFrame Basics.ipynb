{
 "cells": [
  {
   "cell_type": "code",
   "execution_count": 1,
   "id": "a4557d63-fa77-4ccb-bcb5-419dfaae94cf",
   "metadata": {},
   "outputs": [],
   "source": [
    "import os\n",
    "os.environ[\"PYSPARK_PYTHON\"] = r\"C:\\Users\\krish\\anaconda3\\python.exe\"\n",
    "os.environ[\"PYSPARK_DRIVER_PYTHON\"] = r\"C:\\Users\\krish\\anaconda3\\python.exe\""
   ]
  },
  {
   "cell_type": "code",
   "execution_count": 2,
   "id": "b6fd26cf-fa89-4b7e-bbee-f897bacc802e",
   "metadata": {},
   "outputs": [],
   "source": [
    "from pyspark.sql import SparkSession"
   ]
  },
  {
   "cell_type": "code",
   "execution_count": 3,
   "id": "7a389532-6fbf-4fc1-8069-bdcd169bb2d6",
   "metadata": {},
   "outputs": [],
   "source": [
    "spark = SparkSession.builder \\\n",
    "    .appName(\"DataFrame Basics\") \\\n",
    "    .getOrCreate()"
   ]
  },
  {
   "cell_type": "code",
   "execution_count": 4,
   "id": "229ccc98-37ba-47a7-b367-0aa4e3483bc2",
   "metadata": {},
   "outputs": [],
   "source": [
    "customer_list = [\n",
    "    (0, \"Customer_0\", \"Pune\", \"Maharashtra\", \"India\", \"2023-06-29\", False),\n",
    "    (1, \"Customer_1\", \"Bangalore\", \"Tamil Nadu\", \"India\", \"2023-12-07\", True),\n",
    "    (2, \"Customer_2\", \"Hyderabad\", \"Gujarat\", \"India\", \"2023-10-27\", True),\n",
    "    (3, \"Customer_3\", \"Bangalore\", \"Karnataka\", \"India\", \"2023-10-17\", False),\n",
    "    (4, \"Customer_4\", \"Ahmedabad\", \"Karnataka\", \"India\", \"2023-03-14\", False),\n",
    "    (5, \"Customer_5\", \"Hyderabad\", \"Karnataka\", \"India\", \"2023-07-28\", False),\n",
    "    (6, \"Customer_6\", \"Pune\", \"Delhi\", \"India\", \"2023-08-29\", False),\n",
    "]\n",
    "\n",
    "columns = [\n",
    "    \"customer_id\", \"name\", \"city\", \"state\", \"country\", \"registration_date\", \"is_active\"\n",
    "]"
   ]
  },
  {
   "cell_type": "code",
   "execution_count": 5,
   "id": "d78807b0-63ca-4919-8686-70a90819433e",
   "metadata": {},
   "outputs": [
    {
     "name": "stdout",
     "output_type": "stream",
     "text": [
      "+-----------+----------+---------+-----------+-------+-----------------+---------+\n",
      "|customer_id|      name|     city|      state|country|registration_date|is_active|\n",
      "+-----------+----------+---------+-----------+-------+-----------------+---------+\n",
      "|          0|Customer_0|     Pune|Maharashtra|  India|       2023-06-29|    false|\n",
      "|          1|Customer_1|Bangalore| Tamil Nadu|  India|       2023-12-07|     true|\n",
      "|          2|Customer_2|Hyderabad|    Gujarat|  India|       2023-10-27|     true|\n",
      "|          3|Customer_3|Bangalore|  Karnataka|  India|       2023-10-17|    false|\n",
      "|          4|Customer_4|Ahmedabad|  Karnataka|  India|       2023-03-14|    false|\n",
      "|          5|Customer_5|Hyderabad|  Karnataka|  India|       2023-07-28|    false|\n",
      "|          6|Customer_6|     Pune|      Delhi|  India|       2023-08-29|    false|\n",
      "+-----------+----------+---------+-----------+-------+-----------------+---------+\n",
      "\n"
     ]
    }
   ],
   "source": [
    "customer_data = spark.createDataFrame(customer_list, columns)\n",
    "customer_data.show()"
   ]
  },
  {
   "cell_type": "code",
   "execution_count": 6,
   "id": "66dc5961-5df4-4c1e-8261-ae848a7e6e7a",
   "metadata": {},
   "outputs": [],
   "source": [
    "df2 = spark.read \\\n",
    "    .format('csv') \\\n",
    "    .option('header', 'true') \\\n",
    "    .option('inferSchema', \"true\") \\\n",
    "    .load('../Data/Customer Data.csv')"
   ]
  },
  {
   "cell_type": "code",
   "execution_count": 7,
   "id": "3a50b387-53ce-463c-ba39-7e42f543937d",
   "metadata": {},
   "outputs": [
    {
     "name": "stdout",
     "output_type": "stream",
     "text": [
      "+-----------+-----------+---------+-----------+-------+-----------------+---------+\n",
      "|customer_id|       name|     city|      state|country|registration_date|is_active|\n",
      "+-----------+-----------+---------+-----------+-------+-----------------+---------+\n",
      "|          0| Customer_0|     Pune|West Bengal|  India|       2023-10-10|     true|\n",
      "|          1| Customer_1|Bangalore|    Gujarat|  India|       2023-10-19|    false|\n",
      "|          2| Customer_2|Bangalore|  Karnataka|  India|       2023-02-10|     true|\n",
      "|          3| Customer_3|Bangalore|  Telangana|  India|       2023-03-24|     true|\n",
      "|          4| Customer_4|Hyderabad|  Telangana|  India|       2023-06-04|    false|\n",
      "|          5| Customer_5|Hyderabad|West Bengal|  India|       2023-07-26|     true|\n",
      "|          6| Customer_6|Hyderabad|  Karnataka|  India|       2023-08-07|    false|\n",
      "|          7| Customer_7|Bangalore|  Telangana|  India|       2023-08-25|     true|\n",
      "|          8| Customer_8|Bangalore|Maharashtra|  India|       2023-07-13|    false|\n",
      "|          9| Customer_9|Ahmedabad|      Delhi|  India|       2023-07-30|    false|\n",
      "|         10|Customer_10|  Chennai|    Gujarat|  India|       2023-01-14|    false|\n",
      "|         11|Customer_11|     Pune|West Bengal|  India|       2023-04-10|     true|\n",
      "|         12|Customer_12|    Delhi| Tamil Nadu|  India|       2023-06-20|     true|\n",
      "|         13|Customer_13|Ahmedabad|      Delhi|  India|       2023-11-09|     true|\n",
      "|         14|Customer_14|Ahmedabad|West Bengal|  India|       2023-02-18|     true|\n",
      "|         15|Customer_15|   Mumbai|  Telangana|  India|       2023-04-25|    false|\n",
      "|         16|Customer_16|    Delhi| Tamil Nadu|  India|       2023-04-25|    false|\n",
      "|         17|Customer_17|  Chennai|    Gujarat|  India|       2023-05-05|    false|\n",
      "|         18|Customer_18|Ahmedabad|    Gujarat|  India|       2023-08-06|     true|\n",
      "|         19|Customer_19|    Delhi|  Telangana|  India|       2023-04-27|     true|\n",
      "+-----------+-----------+---------+-----------+-------+-----------------+---------+\n",
      "only showing top 20 rows\n",
      "\n",
      "root\n",
      " |-- customer_id: integer (nullable = true)\n",
      " |-- name: string (nullable = true)\n",
      " |-- city: string (nullable = true)\n",
      " |-- state: string (nullable = true)\n",
      " |-- country: string (nullable = true)\n",
      " |-- registration_date: date (nullable = true)\n",
      " |-- is_active: boolean (nullable = true)\n",
      "\n"
     ]
    }
   ],
   "source": [
    "df2.show()\n",
    "df2.printSchema()"
   ]
  },
  {
   "cell_type": "code",
   "execution_count": 8,
   "id": "2a0d8619-773f-4f55-a28c-3810c479dfbc",
   "metadata": {},
   "outputs": [
    {
     "name": "stdout",
     "output_type": "stream",
     "text": [
      "+-----------+-----------+---------+\n",
      "|customer_id|       name|     city|\n",
      "+-----------+-----------+---------+\n",
      "|          0| Customer_0|     Pune|\n",
      "|          1| Customer_1|Bangalore|\n",
      "|          2| Customer_2|Bangalore|\n",
      "|          3| Customer_3|Bangalore|\n",
      "|          4| Customer_4|Hyderabad|\n",
      "|          5| Customer_5|Hyderabad|\n",
      "|          6| Customer_6|Hyderabad|\n",
      "|          7| Customer_7|Bangalore|\n",
      "|          8| Customer_8|Bangalore|\n",
      "|          9| Customer_9|Ahmedabad|\n",
      "|         10|Customer_10|  Chennai|\n",
      "|         11|Customer_11|     Pune|\n",
      "|         12|Customer_12|    Delhi|\n",
      "|         13|Customer_13|Ahmedabad|\n",
      "|         14|Customer_14|Ahmedabad|\n",
      "|         15|Customer_15|   Mumbai|\n",
      "|         16|Customer_16|    Delhi|\n",
      "|         17|Customer_17|  Chennai|\n",
      "|         18|Customer_18|Ahmedabad|\n",
      "|         19|Customer_19|    Delhi|\n",
      "+-----------+-----------+---------+\n",
      "only showing top 20 rows\n",
      "\n"
     ]
    }
   ],
   "source": [
    "selected_cols = df2.select('customer_id', 'name', 'city')\n",
    "selected_cols.show()"
   ]
  },
  {
   "cell_type": "code",
   "execution_count": null,
   "id": "fbc278bb-bfae-429f-9523-18038f3f238e",
   "metadata": {},
   "outputs": [],
   "source": []
  }
 ],
 "metadata": {
  "kernelspec": {
   "display_name": "Python 3 (ipykernel)",
   "language": "python",
   "name": "python3"
  },
  "language_info": {
   "codemirror_mode": {
    "name": "ipython",
    "version": 3
   },
   "file_extension": ".py",
   "mimetype": "text/x-python",
   "name": "python",
   "nbconvert_exporter": "python",
   "pygments_lexer": "ipython3",
   "version": "3.11.7"
  }
 },
 "nbformat": 4,
 "nbformat_minor": 5
}
